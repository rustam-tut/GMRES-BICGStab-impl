{
 "cells": [
  {
   "cell_type": "markdown",
   "metadata": {},
   "source": [
    "# Лабораторная работа 4."
   ]
  },
  {
   "cell_type": "markdown",
   "metadata": {},
   "source": [
    "## Решение СЛАУ с помощью GMRes и BiCGstab методов."
   ]
  },
  {
   "cell_type": "markdown",
   "metadata": {},
   "source": [
    "#### Вариант 2"
   ]
  },
  {
   "cell_type": "code",
   "execution_count": 77,
   "metadata": {},
   "outputs": [],
   "source": [
    "import numpy as np\n",
    "import random"
   ]
  },
  {
   "cell_type": "code",
   "execution_count": 654,
   "metadata": {},
   "outputs": [],
   "source": [
    "def print_r(x):\n",
    "    print(np.round(x, 6))\n",
    "\n",
    "\n",
    "def get_sin_and_cos(a, b):\n",
    "    c = None\n",
    "    s = None\n",
    "    if (b == 0):\n",
    "        c = 1\n",
    "        s = 0\n",
    "    else:\n",
    "        if (abs(b) > abs(a)):\n",
    "            tau = a / b\n",
    "            s = 1 / np.sqrt(1 + tau ** 2)\n",
    "            c = s * tau\n",
    "        else:\n",
    "            tau = b / a\n",
    "            c = 1 / np.sqrt(1 + tau ** 2)\n",
    "            s = c * tau\n",
    "    return s ,c\n",
    "\n",
    "\n",
    "def givens_apply_rotate(a, b, c, s):\n",
    "    return c * a + s * b, - s * a + c * b\n",
    "\n",
    "\n",
    "def gauss_solve(a, b):\n",
    "    n = b.shape[0]\n",
    "    x = np.empty(n)\n",
    "    x[n - 1] = -b[n - 1] / a[n - 1][n - 1]\n",
    "    diag = n - 2\n",
    "    for i in range(n - 2, -1, -1):\n",
    "        s = b[i]\n",
    "        for j in range(n - 1, diag, -1):\n",
    "            s -= a[i][j] * x[j]\n",
    "        x[i] = s / a[i][diag]\n",
    "        diag -= 1\n",
    "    return x\n",
    "\n",
    "\n",
    "def gmres_solve(A, b, eps=10e-5):\n",
    "    n = A.shape[0]\n",
    "    x0 = np.zeros(n)\n",
    "    r0 = b - A @ x0\n",
    "    beta = np.linalg.norm(r0)\n",
    "    v0 = r0 * (1 / beta)\n",
    "    g = np.zeros(n)\n",
    "    g[0] = beta\n",
    "    p = n\n",
    "    H = np.zeros((n + 1, n))\n",
    "    V = [v0]\n",
    "    c = np.zeros(n)\n",
    "    s = np.zeros(n)\n",
    "    for j in range(n):\n",
    "        w = A @ V[j]\n",
    "        for i in range(j + 1):\n",
    "            H[i, j] = np.dot(w, V[i])\n",
    "            w = w - H[i, j] * V[i]\n",
    "        H[j + 1, j] = np.linalg.norm(w)\n",
    "        V.append(w * (1 / H[j + 1, j]))\n",
    "        if (abs(H[j + 1, j]) < eps):\n",
    "            p = j + 1\n",
    "            break\n",
    "        h_r = H[:j + 2, j]\n",
    "        for i in range(j):\n",
    "            h_r[i], h_r[i + 1] = givens_apply_rotate(h_r[i], h_r[i + 1],  c[i], s[i])\n",
    "            g[i], g[i + 1] = givens_apply_rotate(g[i], g[i + 1],  c[i], s[i])\n",
    "        s[j], c[j] = get_sin_and_cos(H[j, j], H[j + 1, j])\n",
    "        h_r[j], h_r[j + 1] = givens_apply_rotate(h_r[j], h_r[j + 1],  c[j], s[j])\n",
    "        H[:j + 2, j] = h_r\n",
    "        g[j], g[j + 1] = givens_apply_rotate(g[j], g[j + 1],  c[j], s[j])\n",
    "        if (abs(g[j + 1]) < eps):\n",
    "            p = j + 1\n",
    "            break\n",
    "    y = np.linalg.solve(H[:p, :p], g[:p])\n",
    "    x = x0\n",
    "    print_r(y)\n",
    "    for i in range(p):\n",
    "        x += y[i] * V[i]\n",
    "    print(x)\n"
   ]
  },
  {
   "cell_type": "code",
   "execution_count": 655,
   "metadata": {},
   "outputs": [
    {
     "name": "stdout",
     "output_type": "stream",
     "text": [
      "[[  9.  -2.   1.   3.   9.]\n",
      " [  2.  10.   6.  -4.  10.]\n",
      " [ -8.   8.  -9.  -1.   0.]\n",
      " [ -2.  -9.  -5.  -3.   3.]\n",
      " [ -1. -10.   6.  -8.   0.]]\n",
      "[  3.   1.  -5. -10.  -3.]\n",
      "[-37.  -4.  39.  31.  37.]\n"
     ]
    }
   ],
   "source": [
    "N = 5\n",
    "A = np.zeros((N, N))\n",
    "x = np.zeros(N)\n",
    "for i in range(N):\n",
    "    for j in range(N):\n",
    "        A[i, j] = float(random.randint(-10, 10))\n",
    "    x[i] = float(random.randint(-10, 10))\n",
    "\n",
    "b = A @ x\n",
    "print_r(A)\n",
    "print_r(x)\n",
    "print_r(b)\n",
    "\n",
    "\n"
   ]
  },
  {
   "cell_type": "code",
   "execution_count": 653,
   "metadata": {},
   "outputs": [
    {
     "name": "stdout",
     "output_type": "stream",
     "text": [
      "[[-19.675358   0.         0.         0.         0.      ]\n",
      " [  0.         0.         0.         0.         0.      ]\n",
      " [  0.         0.         0.         0.         0.      ]\n",
      " [  0.         0.         0.         0.         0.      ]\n",
      " [  0.         0.         0.         0.         0.      ]\n",
      " [  0.         0.         0.         0.         0.      ]]\n",
      "[[-19.675358   2.572737   0.         0.         0.      ]\n",
      " [  0.         8.101899   0.         0.         0.      ]\n",
      " [  0.         0.         0.         0.         0.      ]\n",
      " [  0.         0.         0.         0.         0.      ]\n",
      " [  0.         0.         0.         0.         0.      ]\n",
      " [  0.         0.         0.         0.         0.      ]]\n",
      "[[-19.675358   2.572737   2.217446   0.         0.      ]\n",
      " [  0.         8.101899   8.472058   0.         0.      ]\n",
      " [  0.         0.        -4.16666    0.         0.      ]\n",
      " [  0.         0.         0.         0.         0.      ]\n",
      " [  0.         0.         0.         0.         0.      ]\n",
      " [  0.         0.         0.         0.         0.      ]]\n",
      "[[-19.675358   2.572737   2.217446  -0.23813    0.      ]\n",
      " [  0.         8.101899   8.472058   2.364094   0.      ]\n",
      " [  0.         0.        -4.16666   -8.213369   0.      ]\n",
      " [  0.         0.         0.         9.598655   0.      ]\n",
      " [  0.         0.         0.         0.         0.      ]\n",
      " [  0.         0.         0.         0.         0.      ]]\n",
      "[-1076.158041  -620.756751   837.681905    59.570205  1556.671084]\n",
      "[1220.47556084  429.46295799  108.89431562  362.41420856 1689.59713001]\n"
     ]
    }
   ],
   "source": [
    "gmres_solve(A, b)"
   ]
  },
  {
   "cell_type": "code",
   "execution_count": 477,
   "metadata": {},
   "outputs": [],
   "source": []
  },
  {
   "cell_type": "code",
   "execution_count": null,
   "metadata": {},
   "outputs": [],
   "source": [
    "\n"
   ]
  }
 ],
 "metadata": {
  "kernelspec": {
   "display_name": "Python 3",
   "language": "python",
   "name": "python3"
  },
  "language_info": {
   "codemirror_mode": {
    "name": "ipython",
    "version": 3
   },
   "file_extension": ".py",
   "mimetype": "text/x-python",
   "name": "python",
   "nbconvert_exporter": "python",
   "pygments_lexer": "ipython3",
   "version": "3.7.5rc1"
  }
 },
 "nbformat": 4,
 "nbformat_minor": 2
}
